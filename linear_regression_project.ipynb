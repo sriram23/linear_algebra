{
 "cells": [
  {
   "cell_type": "markdown",
   "metadata": {},
   "source": [
    "Welcome to the linear regression project. \ N",
    "\ n",
    "If the problem in the project is not complete, it does not matter, we encourage you to submit the project with the question, the review will give you a lot of help. \ N"
    "\ n",
    "Where the proof questions can be submitted in pdf format, handwritten after scanning or using the formula editor (latex, mathtype) are available."
   ]
  },
  {
   "cell_type": "markdown",
   "metadata": {},
   "source": [
    "# 1 matrix operations \ n",
    "\ n",
    "## 1.1 Create a 4 * 4 unit matrix"
   ]
  },
  {
   "cell_type": "code",
   "execution_count": null,
   "metadata": {
    "collapsed": true
   },
   "out": [],
   "source": [
    "# This project is designed to help you become familiar with python list and linear algebra \ n"
    "# You can not call any python library, including NumPy, to complete the job \ n"
    "\ n",
    "A = [[1,2,3], \ n",
    "[2,3,3], \ n",
    "[1,2,5]] \ n",
    "\ n",
    "B = [[1,2,3,5], \ n",
    "[2,3,3,5], \ n",
    "[1,2,5,1]] \ n",
    "\ n",
    "#TODO creates a 4 * 4 unit matrix \ n"
    "I = None"
   ]
  },
  {
   "cell_type": "markdown",
   "metadata": {},
   "source": [
    "## 1.2 Returns the number of rows and columns of the matrix"
   ]
  },
  {
   "cell_type": "code",
   "execution_count": null,
   "metadata": {
    "collapsed": true
   },
   "out": [],
   "source": [
    "# TODO Returns the number of rows and columns of the matrix \ n",
    "def shape (M): \ n",
    "return 0,0"
   ]
  },
  {
   "cell_type": "code",
   "execution_count": null,
   "metadata": {},
   "out": [],
   "source": [
    "Run the following code to test your shape function \ n"
    "% run -i -e test.py LinearRegressionTestCase.test_shape"
   ]
  },
  {
   "cell_type": "markdown",
   "metadata": {},
   "source": [
    "## 1.3 Each element is rounded to a specific decimal number"
   ]
  },
  {
   "cell_type": "code",
   "execution_count": null,
   "metadata": {
    "collapsed": true
   },
   "out": [],
   "source": [
    "# TODO each element rounded to a specific decimal place \ n",
    "# Directly modify the parameter matrix, no return value \ n",
    "def matxRound (M, decPts = 4): \ n",
    "pass"
   ]
  },
  {
   "cell_type": "code",
   "execution_count": null,
   "metadata": {},
   "out": [],
   "source": [
    "Run the following code to test your matxRound function \ n",
    "% run -i -e test.py LinearRegressionTestCase.test_matxRound"
   ]
  },
  {
   "cell_type": "markdown",
   "metadata": {},
   "source": [
    "## 1.4 Calculate the transpose of the matrix"
   ]
  },
  {
   "cell_type": "code",
   "execution_count": null,
   "metadata": {
    "collapsed": true
   },
   "out": [],
   "source": [
    "# TODO Calculate the transpose of the matrix \ n"
    "def transpose (M): \ n",
    "return None"
   ]
  },
  {
   "cell_type": "code",
   "execution_count": null,
   "metadata": {},
   "out": [],
   "source": [
    "Run the following code to test your transpose function \ n",
    "% run -i -e test.py LinearRegressionTestCase.test_transpose"
   ]
  },
  {
   "cell_type": "markdown",
   "metadata": {},
   "source": [
    "## 1.5 Calculate matrix multiplication AB"
   ]
  },
  {
   "cell_type": "code",
   "execution_count": null,
   "metadata": {
    "collapsed": true
   },
   "out": [],
   "source": [
    "# TODO Calculate matrix multiplication AB, if not multiplied, return None \ n",
    "def matxMultiply (A, B): \ n",
    "return None"
   ]
  },
  {
   "cell_type": "code",
   "execution_count": null,
   "metadata": {
    "collapsed": true
   },
   "out": [],
   "source": [
    "Run the following code to test your matxMultiply function \ n",
    "% run -i -e test.py LinearRegressionTestCase.test_matxMultiply"
   ]
  },
  {
   "cell_type": "markdown",
   "metadata": {},
   "source": [
    "--- \ n",
    "\ n",
    "# 2 Gaussign Jordan elimination method \ n",
    "\ n",
    "## 2.1 Constructing Augmented Matrix \ n",
    "\ n",
    "$ A = \\ begin {bmatrix} \ n",
    "a_ {11} & a_ {12} & ... & a_ {1n} \\\\\ n"
    "a_ {21} & a_ {22} & ... & a_ {2n} \\\\\ n"
    "a_ {31} & a_ {22} & ... & a_ {3n} \\\\\ n"
    "... & ... & ... & ... \\\\\ n",
    "a_ {n1} & a_ {n2} & ... & a_ {nn} \\\\\ n"
    "\\ end {bmatrix}, b = \\ begin {bmatrix} \ n",
    "b_ {1} \\\\\ n",
    "b_ {2} \\\\\ n",
    "b_ {3} \\\\\ n",
    "... \\\\\ n",
    "b_ {n} \\\\\ n",
    "\\ end {bmatrix} $ \ n",
    "\ n",
    "Returns $ Ab = \\ begin {bmatrix} \ n",
    "a_ {11} & a_ {12} & ... & a_ {1n} & b_ {1} \\\\\ n"
    "a_ {21} & a_ {22} & ... & a_ {2n} & b_ {2} \\\\\ n"
    "a_ {31} & a_ {22} & ... & a_ {3n} & b_ {3} \\\\\ n"
    "... & ... & ... & ... & ... \\\\\ n"
    "a_ {n1} & a_ {n2} & ... & a_ {nn} & b_ {n} \\ end {bmatrix} $"
   ]
  },
  {
   "cell_type": "code",
   "execution_count": null,
   "metadata": {
    "collapsed": true
   },
   "out": [],
   "source": [
    "# TODO constructs augmented matrix, assuming A, b lines are the same \ n",
    "def augmentMatrix (A, b): \ n",
    "return None"
   ]
  },
  {
   "cell_type": "code",
   "execution_count": null,
   "metadata": {},
   "out": [],
   "source": [
    "Run the following code to test your augmentMatrix function \ n",
    "% run -i -e test.py LinearRegressionTestCase.test_augmentMatrix"
   ]
  },
  {
   "cell_type": "markdown",
   "metadata": {},
   "source": [
    "## 2.2 Elementary Line Transform \ n",
    "- exchange two lines \ n",
    "- multiply a row by a nonzero constant \ n"
    "- add a row to another line:"
   ]
  },
  {
   "cell_type": "code",
   "execution_count": null,
   "metadata": {
    "collapsed": true
   },
   "out": [],
   "source": [
    "# TODO r1 <---> r2 \ n",
    "# Directly modify the parameter matrix, no return value \ n",
    "def swapRows (M, r1, r2): \ n",
    "pass"
   ]
  },
  {
   "cell_type": "code",
   "execution_count": null,
   "metadata": {
    "collapsed": true
   },
   "ou

